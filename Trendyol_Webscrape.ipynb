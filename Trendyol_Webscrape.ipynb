{
 "cells": [
  {
   "cell_type": "code",
   "execution_count": 1,
   "id": "1a570173",
   "metadata": {},
   "outputs": [],
   "source": [
    "from bs4 import BeautifulSoup\n",
    "import requests\n",
    "import pandas as pd\n",
    "from selenium.webdriver.chrome.service import Service\n",
    "import time\n",
    "from selenium import webdriver\n",
    "from selenium.webdriver.common.keys import Keys\n",
    "from selenium.webdriver.common.by import By\n",
    "from selenium.webdriver.support.wait import WebDriverWait\n",
    "from selenium.webdriver.support import expected_conditions as EC\n",
    "import pandas as pd"
   ]
  },
  {
   "cell_type": "code",
   "execution_count": 13,
   "id": "f6be7f95",
   "metadata": {},
   "outputs": [],
   "source": [
    "names= []\n",
    "links = []\n",
    "\n",
    "def Pull_Data():\n",
    "    url = 'https://www.trendyol.com/cok-satanlar?type=bestSeller&webGenderId=1'\n",
    "    driver = webdriver.Chrome()\n",
    "    driver.get(url)\n",
    "\n",
    "    driver.set_page_load_timeout(15)\n",
    "    for i in range(1,11):\n",
    "        time.sleep(3)\n",
    "        driver.set_page_load_timeout(15)\n",
    "\n",
    "        driver.execute_script(\"window.scrollTo(0, document.body.scrollHeight);\")\n",
    "        time.sleep(2) \n",
    "        driver.execute_script(\"window.scrollTo(0, 0);\")\n",
    "        time.sleep(2)\n",
    "\n",
    "        driver.set_page_load_timeout(15)\n",
    "        XPATH = f'//*[@id=\"category-top-ranking\"]/div/div[3]/div[1]/div/div[{i}]/a'\n",
    "\n",
    "        button = WebDriverWait(driver, 10)\\\n",
    "        .until(EC.element_to_be_clickable((By.XPATH,XPATH)))\n",
    "        driver.execute_script(\"arguments[0].scrollIntoView(true);\", button)\n",
    "        driver.execute_script(\"arguments[0].click();\", button)\n",
    "        time.sleep(2)\n",
    "\n",
    "        elements = driver.find_elements(By.CLASS_NAME,'pr-new-br')\n",
    "        for element in elements:\n",
    "            names.append(element.text)\n",
    "\n",
    "        lnks = driver.find_element(By.CLASS_NAME,'pr-in-rnr')    \n",
    "        linkk = lnks.find_elements(By.CLASS_NAME,'product-questions')\n",
    "        for link in linkk:\n",
    "            links.append(link.get_attribute('href'))\n",
    "\n",
    "        print('link count {}'.format(len(links)))\n",
    "        print('name count {}'.format(len(names)))\n",
    "\n",
    "        driver.back()"
   ]
  },
  {
   "cell_type": "code",
   "execution_count": 14,
   "id": "13e27eca",
   "metadata": {},
   "outputs": [
    {
     "name": "stdout",
     "output_type": "stream",
     "text": [
      "link count 1\n",
      "name count 1\n",
      "link count 2\n",
      "name count 2\n",
      "link count 3\n",
      "name count 3\n",
      "link count 4\n",
      "name count 4\n",
      "link count 5\n",
      "name count 5\n",
      "link count 6\n",
      "name count 6\n",
      "link count 7\n",
      "name count 7\n",
      "link count 8\n",
      "name count 8\n",
      "link count 9\n",
      "name count 9\n",
      "link count 10\n",
      "name count 10\n"
     ]
    }
   ],
   "source": [
    "Pull_Data()"
   ]
  },
  {
   "cell_type": "code",
   "execution_count": 15,
   "id": "cd73ce5d",
   "metadata": {},
   "outputs": [
    {
     "ename": "NameError",
     "evalue": "name 'names' is not defined",
     "output_type": "error",
     "traceback": [
      "\u001b[1;31m---------------------------------------------------------------------------\u001b[0m",
      "\u001b[1;31mNameError\u001b[0m                                 Traceback (most recent call last)",
      "Cell \u001b[1;32mIn[15], line 1\u001b[0m\n\u001b[1;32m----> 1\u001b[0m df \u001b[38;5;241m=\u001b[39m pd\u001b[38;5;241m.\u001b[39mDataFrame({\u001b[38;5;124m'\u001b[39m\u001b[38;5;124mProduct_Name\u001b[39m\u001b[38;5;124m'\u001b[39m : names,\n\u001b[0;32m      2\u001b[0m                   \u001b[38;5;124m'\u001b[39m\u001b[38;5;124mLink\u001b[39m\u001b[38;5;124m'\u001b[39m : links})\n",
      "\u001b[1;31mNameError\u001b[0m: name 'names' is not defined"
     ]
    }
   ],
   "source": [
    "df = pd.DataFrame({'Product_Name' : names,\n",
    "                  'Link' : links})"
   ]
  },
  {
   "cell_type": "code",
   "execution_count": 25,
   "id": "d23b24cd",
   "metadata": {},
   "outputs": [
    {
     "data": {
      "text/html": [
       "<div>\n",
       "<style scoped>\n",
       "    .dataframe tbody tr th:only-of-type {\n",
       "        vertical-align: middle;\n",
       "    }\n",
       "\n",
       "    .dataframe tbody tr th {\n",
       "        vertical-align: top;\n",
       "    }\n",
       "\n",
       "    .dataframe thead th {\n",
       "        text-align: right;\n",
       "    }\n",
       "</style>\n",
       "<table border=\"1\" class=\"dataframe\">\n",
       "  <thead>\n",
       "    <tr style=\"text-align: right;\">\n",
       "      <th></th>\n",
       "      <th>name</th>\n",
       "      <th>link</th>\n",
       "    </tr>\n",
       "  </thead>\n",
       "  <tbody>\n",
       "    <tr>\n",
       "      <th>0</th>\n",
       "      <td>Sowa Collection Kanvas</td>\n",
       "      <td>https://www.trendyol.com/sowa-collection/kanva...</td>\n",
       "    </tr>\n",
       "    <tr>\n",
       "      <th>1</th>\n",
       "      <td>Monalisa Renkli Kadın Mandal Toka 5'li Set</td>\n",
       "      <td>https://www.trendyol.com/monalisa/renkli-kadin...</td>\n",
       "    </tr>\n",
       "    <tr>\n",
       "      <th>2</th>\n",
       "      <td>ESTUTE Kadın 2 Li Paket Çanta Çapraz Askılı Fe...</td>\n",
       "      <td>https://www.trendyol.com/estute/kadin-2-li-pak...</td>\n",
       "    </tr>\n",
       "    <tr>\n",
       "      <th>3</th>\n",
       "      <td>Genel Markalar İtalyan Charm Çelik Bileklik</td>\n",
       "      <td>https://www.trendyol.com/genel-markalar/italya...</td>\n",
       "    </tr>\n",
       "    <tr>\n",
       "      <th>4</th>\n",
       "      <td>Kinary Unisex Güneş Gözlüğü 3'lü Fırsat Seti 2028</td>\n",
       "      <td>https://www.trendyol.com/kinary/unisex-gunes-g...</td>\n",
       "    </tr>\n",
       "    <tr>\n",
       "      <th>5</th>\n",
       "      <td>Monalisa Kadın 50'li Siyah Havlu Lastik Toka Seti</td>\n",
       "      <td>https://www.trendyol.com/monalisa/kadin-50-li-...</td>\n",
       "    </tr>\n",
       "    <tr>\n",
       "      <th>6</th>\n",
       "      <td>monalisatoka Kadın 4'Lü Kalp Detaylı Gümüş Ren...</td>\n",
       "      <td>https://www.trendyol.com/monalisatoka/kadin-4-...</td>\n",
       "    </tr>\n",
       "    <tr>\n",
       "      <th>7</th>\n",
       "      <td>Liva Gold İmitasyon 22 Ayar Altın Kaplama Burm...</td>\n",
       "      <td>https://www.trendyol.com/liva-gold-imitasyon/2...</td>\n",
       "    </tr>\n",
       "    <tr>\n",
       "      <th>8</th>\n",
       "      <td>Katusa Siyah Yavrulu Omuz Çantası</td>\n",
       "      <td>https://www.trendyol.com/katusa/siyah-yavrulu-...</td>\n",
       "    </tr>\n",
       "  </tbody>\n",
       "</table>\n",
       "</div>"
      ],
      "text/plain": [
       "                                                name  \\\n",
       "0                             Sowa Collection Kanvas   \n",
       "1         Monalisa Renkli Kadın Mandal Toka 5'li Set   \n",
       "2  ESTUTE Kadın 2 Li Paket Çanta Çapraz Askılı Fe...   \n",
       "3        Genel Markalar İtalyan Charm Çelik Bileklik   \n",
       "4  Kinary Unisex Güneş Gözlüğü 3'lü Fırsat Seti 2028   \n",
       "5  Monalisa Kadın 50'li Siyah Havlu Lastik Toka Seti   \n",
       "6  monalisatoka Kadın 4'Lü Kalp Detaylı Gümüş Ren...   \n",
       "7  Liva Gold İmitasyon 22 Ayar Altın Kaplama Burm...   \n",
       "8                  Katusa Siyah Yavrulu Omuz Çantası   \n",
       "\n",
       "                                                link  \n",
       "0  https://www.trendyol.com/sowa-collection/kanva...  \n",
       "1  https://www.trendyol.com/monalisa/renkli-kadin...  \n",
       "2  https://www.trendyol.com/estute/kadin-2-li-pak...  \n",
       "3  https://www.trendyol.com/genel-markalar/italya...  \n",
       "4  https://www.trendyol.com/kinary/unisex-gunes-g...  \n",
       "5  https://www.trendyol.com/monalisa/kadin-50-li-...  \n",
       "6  https://www.trendyol.com/monalisatoka/kadin-4-...  \n",
       "7  https://www.trendyol.com/liva-gold-imitasyon/2...  \n",
       "8  https://www.trendyol.com/katusa/siyah-yavrulu-...  "
      ]
     },
     "execution_count": 25,
     "metadata": {},
     "output_type": "execute_result"
    }
   ],
   "source": [
    "df"
   ]
  },
  {
   "cell_type": "code",
   "execution_count": 17,
   "id": "f696a42e",
   "metadata": {},
   "outputs": [
    {
     "data": {
      "text/plain": [
       "7"
      ]
     },
     "execution_count": 17,
     "metadata": {},
     "output_type": "execute_result"
    }
   ],
   "source": []
  },
  {
   "cell_type": "code",
   "execution_count": null,
   "id": "05ec8c32",
   "metadata": {},
   "outputs": [],
   "source": []
  }
 ],
 "metadata": {
  "kernelspec": {
   "display_name": "Python 3 (ipykernel)",
   "language": "python",
   "name": "python3"
  },
  "language_info": {
   "codemirror_mode": {
    "name": "ipython",
    "version": 3
   },
   "file_extension": ".py",
   "mimetype": "text/x-python",
   "name": "python",
   "nbconvert_exporter": "python",
   "pygments_lexer": "ipython3",
   "version": "3.11.5"
  }
 },
 "nbformat": 4,
 "nbformat_minor": 5
}
